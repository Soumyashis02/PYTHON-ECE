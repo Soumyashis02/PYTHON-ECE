{
 "cells": [
  {
   "cell_type": "code",
   "execution_count": 1,
   "metadata": {},
   "outputs": [
    {
     "ename": "ValueError",
     "evalue": "invalid literal for int() with base 10: ''",
     "output_type": "error",
     "traceback": [
      "\u001b[1;31m---------------------------------------------------------------------------\u001b[0m",
      "\u001b[1;31mValueError\u001b[0m                                Traceback (most recent call last)",
      "Cell \u001b[1;32mIn[1], line 30\u001b[0m\n\u001b[0;32m     23\u001b[0m         abc\u001b[39m=\u001b[39m{\n\u001b[0;32m     24\u001b[0m             \u001b[39m\"\u001b[39m\u001b[39ma\u001b[39m\u001b[39m\"\u001b[39m:lst,\n\u001b[0;32m     25\u001b[0m             \u001b[39m\"\u001b[39m\u001b[39mb\u001b[39m\u001b[39m\"\u001b[39m:lst1,\n\u001b[0;32m     26\u001b[0m             \u001b[39m\"\u001b[39m\u001b[39mc\u001b[39m\u001b[39m\"\u001b[39m:lst2,\n\u001b[0;32m     27\u001b[0m             \u001b[39m\"\u001b[39m\u001b[39md\u001b[39m\u001b[39m\"\u001b[39m:lst3\n\u001b[0;32m     28\u001b[0m         }\n\u001b[0;32m     29\u001b[0m         \u001b[39mprint\u001b[39m(abc)\n\u001b[1;32m---> 30\u001b[0m Test\u001b[39m.\u001b[39;49mmain()\n",
      "Cell \u001b[1;32mIn[1], line 4\u001b[0m, in \u001b[0;36mTest.main\u001b[1;34m()\u001b[0m\n\u001b[0;32m      2\u001b[0m \u001b[39mdef\u001b[39;00m \u001b[39mmain\u001b[39m():\n\u001b[0;32m      3\u001b[0m     lst\u001b[39m=\u001b[39m[]\n\u001b[1;32m----> 4\u001b[0m     n\u001b[39m=\u001b[39m\u001b[39mint\u001b[39;49m(\u001b[39minput\u001b[39;49m(\u001b[39m\"\u001b[39;49m\u001b[39mEnter the no of values -> \u001b[39;49m\u001b[39m\"\u001b[39;49m))\n\u001b[0;32m      5\u001b[0m     \u001b[39mfor\u001b[39;00m x \u001b[39min\u001b[39;00m \u001b[39mrange\u001b[39m(\u001b[39m0\u001b[39m,n):\n\u001b[0;32m      6\u001b[0m         y\u001b[39m=\u001b[39m\u001b[39mint\u001b[39m(\u001b[39minput\u001b[39m())\n",
      "\u001b[1;31mValueError\u001b[0m: invalid literal for int() with base 10: ''"
     ]
    }
   ],
   "source": [
    "class Test:\n",
    "    def main():\n",
    "        lst=[]\n",
    "        n=int(input(\"Enter the no of values -> \"))\n",
    "        for x in range(0,n):\n",
    "            y=int(input())\n",
    "            lst.append(y)\n",
    "        lst1=[]\n",
    "        n=int(input(\"Enter the no of values -> \"))\n",
    "        for x in range(0,n):\n",
    "            y=int(input())\n",
    "            lst1.append(y)\n",
    "        lst2=[]\n",
    "        n=int(input(\"Enter the no of values -> \"))\n",
    "        for x in range(0,n):\n",
    "            y=int(input())\n",
    "            lst2.append(y)\n",
    "        lst3=[]\n",
    "        n=int(input(\"Enter the no of values -> \"))\n",
    "        for x in range(0,n):\n",
    "            y=int(input())\n",
    "            lst3.append(y)\n",
    "        abc={\n",
    "            \"a\":lst,\n",
    "            \"b\":lst1,\n",
    "            \"c\":lst2,\n",
    "            \"d\":lst3\n",
    "        }\n",
    "        print(abc)\n",
    "Test.main()"
   ]
  }
 ],
 "metadata": {
  "kernelspec": {
   "display_name": "Python 3",
   "language": "python",
   "name": "python3"
  },
  "language_info": {
   "codemirror_mode": {
    "name": "ipython",
    "version": 3
   },
   "file_extension": ".py",
   "mimetype": "text/x-python",
   "name": "python",
   "nbconvert_exporter": "python",
   "pygments_lexer": "ipython3",
   "version": "3.11.4"
  },
  "orig_nbformat": 4
 },
 "nbformat": 4,
 "nbformat_minor": 2
}
