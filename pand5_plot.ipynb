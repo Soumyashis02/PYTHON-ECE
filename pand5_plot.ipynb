{
 "cells": [
  {
   "cell_type": "code",
   "execution_count": 1,
   "metadata": {},
   "outputs": [],
   "source": [
    "import matplotlib.pyplot as plt\n",
    "import pandas as pd\n",
    "class Dataframe():\n",
    "    def dict_input():\n",
    "        Sampdata = {}\n",
    "        n = int(input(\"Enter number of entries: \"))\n",
    "        for i in range(n):\n",
    "            k = input(\"Enter key: \")\n",
    "            v = eval(input(\"Enter values: \"))\n",
    "            Sampdata[k] = v\n",
    "\n",
    "        df = pd.DataFrame(Sampdata)\n",
    "        df.to_csv(\"User_input_plot.csv\")\n",
    "        print(\"File created successfully\")\n",
    "        df.plot(marker = \".\")\n",
    "        plt.grid()\n",
    "        plt.show()\n",
    "        print(Sampdata)\n",
    "\n",
    "Dataframe.dict_input()"
   ]
  }
 ],
 "metadata": {
  "kernelspec": {
   "display_name": "Python 3",
   "language": "python",
   "name": "python3"
  },
  "language_info": {
   "codemirror_mode": {
    "name": "ipython",
    "version": 3
   },
   "file_extension": ".py",
   "mimetype": "text/x-python",
   "name": "python",
   "nbconvert_exporter": "python",
   "pygments_lexer": "ipython3",
   "version": "3.11.4"
  },
  "orig_nbformat": 4
 },
 "nbformat": 4,
 "nbformat_minor": 2
}
